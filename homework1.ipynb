{
 "cells": [
  {
   "cell_type": "code",
   "execution_count": null,
   "metadata": {
    "collapsed": true
   },
   "outputs": [],
   "source": [
    "#Sean Lutzs Homework One "
   ]
  },
  {
   "cell_type": "code",
   "execution_count": 2,
   "metadata": {
    "collapsed": true
   },
   "outputs": [],
   "source": [
    "import xlrd\n",
    "from bokeh.plotting import figure, output_file, show\n",
    "\n",
    "workbook = xlrd.open_workbook('percentLaborAbove15.xlsx')\n",
    "sheet_names = workbook.sheet_names()\n",
    "sheet = workbook.sheet_by_name(sheet_names[0])\n",
    "rows = {} \n",
    "for row_idx in range(sheet.nrows):\n",
    "\ttheRow = sheet.row_values(row_idx)\n",
    "\tif 'labour to population' in theRow[0]:\n",
    "\t\ttheRow[0] = 'years'\n",
    "\trows[theRow[0]] = theRow[1:]\n",
    "\n",
    "#theres an easy way to randomize colors, but I don't know it and its too late to figure out\n",
    "#pls forgive this should be a for loop\n",
    "p = figure(title=\"age 15+ employment rate in the UK\", x_axis_label='years', y_axis_label='Unemployment Percentage')\n",
    "p.x(x = rows['years'], y = rows['Botswana'], size=10, color=\"olive\", alpha=.8, legend=\"Botswana\")\n",
    "p.x(x = rows['years'], y = rows['Egypt'], size=10, color=\"red\", alpha=.8, legend=\"Egypt.\")\n",
    "p.x(x = rows['years'], y = rows['Tunisia'], size=10, color=\"green\", alpha=.8, legend=\"Tunisia.\")\n",
    "p.x(x = rows['years'], y = rows['Kenya'], size=10, color=\"red\", alpha=.8, legend=\"Kenya.\")\n",
    "p.x(x = rows['years'], y = rows['Nigeria'], size=10, color=\"blue\", alpha=.8, legend=\"Nigeria.\")\n",
    "p.x(x = rows['years'], y = rows['Togo'], size=10, color=\"blue\", alpha=.8, legend=\"Togo.\")\n",
    "\n",
    "\n",
    "p.legend.click_policy=\"hide\"\n",
    "\n",
    "\n",
    "show(p)\n"
   ]
  }
 ],
 "metadata": {
  "kernelspec": {
   "display_name": "Python 2",
   "language": "python",
   "name": "python2"
  },
  "language_info": {
   "codemirror_mode": {
    "name": "ipython",
    "version": 2
   },
   "file_extension": ".py",
   "mimetype": "text/x-python",
   "name": "python",
   "nbconvert_exporter": "python",
   "pygments_lexer": "ipython2",
   "version": "2.7.6"
  }
 },
 "nbformat": 4,
 "nbformat_minor": 2
}
